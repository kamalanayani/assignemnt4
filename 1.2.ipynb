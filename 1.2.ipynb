{
 "cells": [
  {
   "cell_type": "code",
   "execution_count": 1,
   "metadata": {},
   "outputs": [
    {
     "name": "stdout",
     "output_type": "stream",
     "text": [
      "words ['asdf', 'hwllo', 'words']\n"
     ]
    }
   ],
   "source": [
    "def filter_long_words(words,n):\n",
    "    l = []\n",
    "    for i in words:\n",
    "        if len(i)>n:\n",
    "            l.append(i)\n",
    "    print(\"words\",l)\n",
    "    \n",
    "a = [\"asdf\",\"hwllo\",\"hi\",\"words\"]\n",
    "filter_long_words(a,3)"
   ]
  }
 ],
 "metadata": {
  "kernelspec": {
   "display_name": "Python 3",
   "language": "python",
   "name": "python3"
  },
  "language_info": {
   "codemirror_mode": {
    "name": "ipython",
    "version": 3
   },
   "file_extension": ".py",
   "mimetype": "text/x-python",
   "name": "python",
   "nbconvert_exporter": "python",
   "pygments_lexer": "ipython3",
   "version": "3.7.6"
  }
 },
 "nbformat": 4,
 "nbformat_minor": 4
}
